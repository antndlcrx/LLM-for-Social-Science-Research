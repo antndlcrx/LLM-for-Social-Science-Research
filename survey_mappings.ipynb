{
  "nbformat": 4,
  "nbformat_minor": 0,
  "metadata": {
    "colab": {
      "provenance": [],
      "authorship_tag": "ABX9TyP8NL8i82fQ+7lrXTPhiDYc"
    },
    "kernelspec": {
      "name": "python3",
      "display_name": "Python 3"
    },
    "language_info": {
      "name": "python"
    }
  },
  "cells": [
    {
      "cell_type": "code",
      "source": [
        "import pandas as pd\n",
        "import numpy as np\n",
        "import os\n",
        "import json\n",
        "import random\n",
        "from typing import List, Dict, Tuple, Any"
      ],
      "metadata": {
        "id": "oKkz-mmOUziZ"
      },
      "execution_count": 20,
      "outputs": []
    },
    {
      "cell_type": "code",
      "source": [
        "!git clone https://github.com/antndlcrx/LLM-for-Social-Science-Research.git"
      ],
      "metadata": {
        "id": "B5Xe7Hxe61Oc",
        "outputId": "3fe654f8-77ae-4f86-ebe5-2b9d950f784e",
        "colab": {
          "base_uri": "https://localhost:8080/"
        }
      },
      "execution_count": 30,
      "outputs": [
        {
          "output_type": "stream",
          "name": "stdout",
          "text": [
            "fatal: destination path 'LLM-for-Social-Science-Research' already exists and is not an empty directory.\n"
          ]
        }
      ]
    },
    {
      "cell_type": "code",
      "source": [
        "directory = 'LLM-for-Social-Science-Research/mappings'\n",
        "\n",
        "survey_mappings = {}\n",
        "\n",
        "for filename in os.listdir(directory):\n",
        "    if filename.endswith('.json'):\n",
        "        section_name = os.path.splitext(filename)[0]\n",
        "\n",
        "        with open(os.path.join(directory, filename), 'r', encoding='utf-8') as file:\n",
        "            survey_mappings[section_name] = json.load(file)\n",
        "\n",
        "\n",
        "ess = pd.read_csv('ESS10.csv')"
      ],
      "metadata": {
        "id": "aRBbbp8RV22-",
        "outputId": "769ec0fd-9e4e-4784-c59c-e9475e4d9382",
        "colab": {
          "base_uri": "https://localhost:8080/"
        }
      },
      "execution_count": 32,
      "outputs": [
        {
          "output_type": "stream",
          "name": "stderr",
          "text": [
            "<ipython-input-32-5fae74428a89>:13: DtypeWarning: Columns (166,172,174,607,608) have mixed types. Specify dtype option on import or set low_memory=False.\n",
            "  ess = pd.read_csv('ESS10.csv')\n"
          ]
        }
      ]
    },
    {
      "cell_type": "code",
      "source": [
        "class SurveyProfileGenerator:\n",
        "    def __init__(self,\n",
        "                 data: pd.DataFrame,\n",
        "                 respondent_id: str,\n",
        "                 survey_mappings: Dict[str, Dict[str, Any]],\n",
        "                 max_sections: int = 3,\n",
        "                 max_features: int = 3,\n",
        "                 fixed_features: List[str] = None):\n",
        "        \"\"\"\n",
        "        Initializes the SurveyProfileGenerator with survey mappings, maximum number of features per section,\n",
        "        and any fixed features that should always be included in the profiles.\n",
        "\n",
        "        Parameters:\n",
        "        - data (pd.DataFrame): The survey dataset.\n",
        "        - respondent_id (str): The column name for respondent IDs.\n",
        "        - survey_mappings (dict): Nested dictionary mapping of survey questions.\n",
        "        - max_sections (int): Maximum number of sections to randomly select.\n",
        "        - max_features (int): Maximum number of features to randomly select per section.\n",
        "        - fixed_features (List[str]): List of feature names that are fixed and always included.\n",
        "        \"\"\"\n",
        "        self.data = data\n",
        "        self.respondent_id = respondent_id\n",
        "        self.survey_mappings = survey_mappings\n",
        "        self.max_sections = max_sections\n",
        "        self.max_features = max_features\n",
        "        self.fixed_features = fixed_features or []\n",
        "\n",
        "        # Build a mapping from feature names to their sections\n",
        "        self.feature_to_section = {\n",
        "            feature: section\n",
        "            for section, features in self.survey_mappings.items()\n",
        "            for feature in features\n",
        "        }\n",
        "\n",
        "    def create_random_profile(self, respondent: pd.Series) -> Dict[str, Any]:\n",
        "        \"\"\"\n",
        "        Creates a random profile for a single respondent.\n",
        "\n",
        "        Parameters:\n",
        "        - respondent (pd.Series): A row from the DataFrame representing a respondent.\n",
        "\n",
        "        Returns:\n",
        "        - profile (dict): A dictionary representing the respondent's profile.\n",
        "        \"\"\"\n",
        "        profile = {'respondent_id': respondent[self.respondent_id]}\n",
        "\n",
        "        # Add fixed features\n",
        "        predictor_features = []\n",
        "        for feature in self.fixed_features:\n",
        "            if feature in respondent:\n",
        "                profile[feature] = respondent[feature]\n",
        "                predictor_features.append(feature)\n",
        "\n",
        "        # Available sections excluding those already included via fixed features\n",
        "        available_sections = list(set(self.survey_mappings.keys()) -\n",
        "                                  set(self.feature_to_section.get(f) for f in self.fixed_features))\n",
        "\n",
        "        # Randomly select sections\n",
        "        num_sections_to_select = min(self.max_sections, len(available_sections))\n",
        "        random_sections = random.sample(available_sections, num_sections_to_select)\n",
        "\n",
        "        # Collect selected features\n",
        "        selected_features = []\n",
        "        for section in random_sections:\n",
        "            features_in_section = list(self.survey_mappings[section].keys())\n",
        "            num_features_to_select = min(self.max_features, len(features_in_section))\n",
        "            selected_in_section = random.sample(features_in_section, num_features_to_select)\n",
        "            selected_features.extend(selected_in_section)\n",
        "\n",
        "        # Remove any fixed features from selected features\n",
        "        selected_features = [f for f in selected_features if f not in self.fixed_features]\n",
        "\n",
        "        if not selected_features:\n",
        "            # If no features are left after removing fixed features\n",
        "            return profile\n",
        "\n",
        "        # Select one feature as the response feature\n",
        "        response_feature = random.choice(selected_features)\n",
        "        selected_features.remove(response_feature)\n",
        "\n",
        "        # Add predictor features\n",
        "        for feature in selected_features:\n",
        "            if feature in respondent:\n",
        "                profile[feature] = respondent[feature]\n",
        "                predictor_features.append(feature)\n",
        "\n",
        "        # Add the response feature\n",
        "        if response_feature in respondent:\n",
        "            profile['response_feature'] = respondent[response_feature]\n",
        "            profile['response_feature_name'] = response_feature\n",
        "\n",
        "        return profile\n",
        "\n",
        "    def generate_profiles(self, num_profiles_per_respondent: int) -> List[Dict[str, Any]]:\n",
        "        \"\"\"\n",
        "        Generates profiles for all respondents in the dataset.\n",
        "\n",
        "        Parameters:\n",
        "        - num_profiles_per_respondent (int): Number of profiles to generate per respondent.\n",
        "\n",
        "        Returns:\n",
        "        - profiles (List[dict]): A list of respondent profiles.\n",
        "        \"\"\"\n",
        "        profiles = []\n",
        "        for _, respondent in self.data.iterrows():\n",
        "            for _ in range(num_profiles_per_respondent):\n",
        "                profile = self.create_random_profile(respondent)\n",
        "                profiles.append(profile)\n",
        "        return profiles\n",
        "\n",
        "    def profile_to_text(self, profile: Dict[str, Any]) -> Tuple[str, str]:\n",
        "        \"\"\"\n",
        "        Converts a profile into text form, turning profile features into a text description\n",
        "        and the response feature into an answer to an interview question.\n",
        "\n",
        "        Parameters:\n",
        "        - profile (dict): A respondent's profile.\n",
        "\n",
        "        Returns:\n",
        "        - preamble (str): The text description of the respondent.\n",
        "        - response (str): The answer to the interview question.\n",
        "        \"\"\"\n",
        "        lines = []\n",
        "\n",
        "        # Extract the response feature name and value\n",
        "        response_feature_name = profile.get('response_feature_name')\n",
        "        response_feature_value = profile.get('response_feature')\n",
        "\n",
        "        # Iterate over predictor features\n",
        "        for feature, value in profile.items():\n",
        "            if feature in ['respondent_id', 'response_feature', 'response_feature_name']:\n",
        "                continue  # Skip non-feature fields\n",
        "\n",
        "            section = self.feature_to_section.get(feature)\n",
        "            if not section:\n",
        "                continue  # Skip if section is not found\n",
        "\n",
        "            feature_mapping = self.survey_mappings.get(section, {}).get(feature)\n",
        "            if not feature_mapping:\n",
        "                continue  # Skip if feature mapping is not found\n",
        "\n",
        "            description = feature_mapping.get('description', feature)\n",
        "            values_mapping = feature_mapping.get('values', {})\n",
        "            value_text = values_mapping.get(str(value), str(value))\n",
        "\n",
        "            lines.append(f\"{description}: {value_text}\")\n",
        "\n",
        "        # Get the question and response for the response feature\n",
        "        if response_feature_name and response_feature_value is not None:\n",
        "            section = self.feature_to_section.get(response_feature_name)\n",
        "            if section:\n",
        "                feature_mapping = self.survey_mappings.get(section, {}).get(response_feature_name)\n",
        "                if feature_mapping:\n",
        "                    question = feature_mapping.get('question', f\"Please answer the following question about {response_feature_name}:\")\n",
        "                    values_mapping = feature_mapping.get('values', {})\n",
        "                    response_text = values_mapping.get(str(response_feature_value), str(response_feature_value))\n",
        "                else:\n",
        "                    question = f\"Please answer the following question about {response_feature_name}:\"\n",
        "                    response_text = str(response_feature_value)\n",
        "            else:\n",
        "                question = f\"Please answer the following question about {response_feature_name}:\"\n",
        "                response_text = str(response_feature_value)\n",
        "\n",
        "            lines.append(question)\n",
        "        else:\n",
        "            # If no response feature is available\n",
        "            response_text = \"\"\n",
        "\n",
        "        preamble = '\\n'.join(lines)\n",
        "        return preamble, response_text\n"
      ],
      "metadata": {
        "id": "jvVaHkOsFfMv"
      },
      "execution_count": 24,
      "outputs": []
    },
    {
      "cell_type": "code",
      "source": [
        "prof_generator = SurveyProfileGenerator(ess[0:3], survey_mappings=survey_mappings,\n",
        "                                        respondent_id='idno', max_sections=3, max_features=3,\n",
        "                                        fixed_features=['cntry', 'gndr'])"
      ],
      "metadata": {
        "id": "9Cp92P1w9gaa"
      },
      "execution_count": 38,
      "outputs": []
    },
    {
      "cell_type": "code",
      "source": [
        "profiles = prof_generator.generate_profiles(1)"
      ],
      "metadata": {
        "id": "_-JuwyG0Gyxy"
      },
      "execution_count": 45,
      "outputs": []
    },
    {
      "cell_type": "code",
      "source": [
        "for profile in profiles:\n",
        "    preamble, response = prof_generator.profile_to_text(profile)\n",
        "    print(\"Preamble:\")\n",
        "    print(preamble)\n",
        "    print(\"Response:\")\n",
        "    print(response)\n",
        "    print(\"-\" * 40)"
      ],
      "metadata": {
        "id": "NNeCUiXRLtyA",
        "outputId": "73161375-8a2e-46cb-aa23-d210c85491ed",
        "colab": {
          "base_uri": "https://localhost:8080/"
        }
      },
      "execution_count": 46,
      "outputs": [
        {
          "output_type": "stream",
          "name": "stdout",
          "text": [
            "Preamble:\n",
            "Country: Belgium\n",
            "Gender: Female\n",
            "Donated to or participated in political party or pressure group last 12 months: No\n",
            "Boycotted certain products last 12 months: No\n",
            "Party voted for in last national election, Belgium: 66.0\n",
            "Party voted for in last national election, Switzerland: nan\n",
            "Respondent or household member victim of burglary/assault last 5 years: Don't know\n",
            "How happy are you: 7\n",
            "Take part in social activities compared to others of same age: Less than most\n",
            "During the last 12 months, have you contacted a politician, government or local government official?\n",
            "Response:\n",
            "No\n",
            "----------------------------------------\n",
            "Preamble:\n",
            "Country: Belgium\n",
            "Gender: Female\n",
            "How many people with whom you can discuss intimate and personal matters: 4-6\n",
            "How emotionally attached to [country]: 3\n",
            "Feeling of safety of walking alone in local area after dark: Safe\n",
            "Language most often spoken at home: second mentioned: 000\n",
            "Discrimination of respondent's group: disability: Not marked\n",
            "Citizen of country: Yes\n",
            "Volunteered for not-for-profit or charitable organisation: No\n",
            "Feel closer to a particular party than all other parties: No\n",
            "During the last 12 months, have you taken part in a public demonstration?\n",
            "Response:\n",
            "No\n",
            "----------------------------------------\n",
            "Preamble:\n",
            "Country: Belgium\n",
            "Gender: Male\n",
            "Discrimination of respondent's group: gender: Not marked\n",
            "Country of birth, mother: France\n",
            "Discrimination of respondent's group: don't know: Not marked\n",
            "How satisfied with the national government: 5\n",
            "How satisfied with the way democracy works in country: 6\n",
            "State of education in country nowadays: 6\n",
            "Which party feel closer to, Netherlands: nan\n",
            "Which party feel closer to, Norway: nan\n",
            "Which one? (Belgium)\n",
            "Response:\n",
            "11.0\n",
            "----------------------------------------\n"
          ]
        }
      ]
    },
    {
      "cell_type": "markdown",
      "source": [
        "## Next Steps"
      ],
      "metadata": {
        "id": "d_hfJsRwEXBE"
      }
    },
    {
      "cell_type": "code",
      "source": [
        "!pip install -q -U google-generativeai"
      ],
      "metadata": {
        "id": "Hun2Dl3-Qzuj"
      },
      "execution_count": null,
      "outputs": []
    },
    {
      "cell_type": "code",
      "source": [
        "# Import the Python SDK\n",
        "import google.generativeai as genai\n",
        "# Used to securely store your API key\n",
        "from google.colab import userdata\n",
        "\n",
        "GOOGLE_API_KEY=userdata.get('GOOGLE_API_KEY')\n",
        "genai.configure(api_key=GOOGLE_API_KEY)"
      ],
      "metadata": {
        "id": "gUprv-AfQ1Hg"
      },
      "execution_count": null,
      "outputs": []
    },
    {
      "cell_type": "code",
      "source": [
        "model = genai.GenerativeModel('gemini-1.5-flash')"
      ],
      "metadata": {
        "id": "70m3Oi1JQ9EK"
      },
      "execution_count": null,
      "outputs": []
    },
    {
      "cell_type": "code",
      "source": [
        "prompt = \"Create a short biographic description for the profile below.\""
      ],
      "metadata": {
        "id": "pGyaJG2lUCN7"
      },
      "execution_count": null,
      "outputs": []
    },
    {
      "cell_type": "code",
      "source": [
        "model.generate_content()"
      ],
      "metadata": {
        "id": "juPti4a1T_u-"
      },
      "execution_count": null,
      "outputs": []
    },
    {
      "cell_type": "code",
      "source": [
        "#@title Dealing with bad Mappings\n",
        "\n",
        "def find_numeric_to_numeric_mappings(survey_mappings: dict) -> dict:\n",
        "    \"\"\"\n",
        "    Identifies mappings with numeric-to-numeric key-value pairs in the nested survey_mappings dictionary.\n",
        "    Returns a dictionary with the section and feature names for each problematic mapping.\n",
        "\n",
        "    Parameters:\n",
        "    -----------\n",
        "    survey_mappings : dict\n",
        "        The nested dictionary containing sections and features of survey mappings.\n",
        "\n",
        "    Returns:\n",
        "    --------\n",
        "    dict\n",
        "        A dictionary where each key is a section name and each value is a list of features that contain\n",
        "        numeric-to-numeric mappings in their \"values\" field.\n",
        "    \"\"\"\n",
        "\n",
        "    problematic_mappings = {}\n",
        "\n",
        "    for section, features in survey_mappings.items():\n",
        "        for feature, feature_data in features.items():\n",
        "            # Check if \"values\" key exists in feature data\n",
        "            if \"values\" in feature_data:\n",
        "                # Flag to indicate if this feature has numeric-to-numeric mappings\n",
        "                has_numeric_to_numeric = False\n",
        "\n",
        "                for key, value in feature_data[\"values\"].items():\n",
        "                    # Check if both key and value are numeric (integer-like or string numeric)\n",
        "                    if key.isdigit() and (value.isdigit() or isinstance(value, int)):\n",
        "                        has_numeric_to_numeric = True\n",
        "                        break\n",
        "\n",
        "                if has_numeric_to_numeric:\n",
        "                    if section not in problematic_mappings:\n",
        "                        problematic_mappings[section] = []\n",
        "                    problematic_mappings[section].append(feature)\n",
        "\n",
        "    return problematic_mappings\n"
      ],
      "metadata": {
        "cellView": "form",
        "id": "08tj3IDoJfD6"
      },
      "execution_count": null,
      "outputs": []
    },
    {
      "cell_type": "code",
      "source": [
        "problematic_mappings = find_numeric_to_numeric_mappings(survey_mappings)\n",
        "problematic_mappings"
      ],
      "metadata": {
        "colab": {
          "base_uri": "https://localhost:8080/"
        },
        "id": "i11QqOztJmE1",
        "outputId": "f1cbff55-1419-48c2-891c-fcfa75c56dd7"
      },
      "execution_count": null,
      "outputs": [
        {
          "output_type": "execute_result",
          "data": {
            "text/plain": [
              "{'relationship_parents_and_at_work': ['stfmjob',\n",
              "  'mansupp',\n",
              "  'teamfeel',\n",
              "  'wrkextra'],\n",
              " 'political_opinions': ['lrscale',\n",
              "  'stflife',\n",
              "  'stfeco',\n",
              "  'stfgov',\n",
              "  'stfdem',\n",
              "  'stfedu',\n",
              "  'stfhlth',\n",
              "  'euftf',\n",
              "  'imbgeco',\n",
              "  'imueclt',\n",
              "  'imwbcnt'],\n",
              " 'internet_use_social_trust': ['ppltrst',\n",
              "  'pplfair',\n",
              "  'pplhlp',\n",
              "  'trstprl',\n",
              "  'trstlgl',\n",
              "  'trstplc',\n",
              "  'trstplt',\n",
              "  'trstprt',\n",
              "  'trstep',\n",
              "  'trstun',\n",
              "  'trstsci'],\n",
              " 'well_being_emot_attachment': ['happy', 'inprdsc', 'atchctr', 'atcherp'],\n",
              " 'religion': ['rlgrl'],\n",
              " 'climate_change_eu': ['ccrdprs', 'testic34', 'testic35', 'testic36'],\n",
              " 'understanding_democracy': ['fairelc',\n",
              "  'dfprtal',\n",
              "  'medcrgv',\n",
              "  'rghmgpr',\n",
              "  'votedir',\n",
              "  'cttresa',\n",
              "  'gptpel',\n",
              "  'gvctzpv',\n",
              "  'grdfinc',\n",
              "  'viepol',\n",
              "  'wpestop',\n",
              "  'keydec',\n",
              "  'fairelcc',\n",
              "  'dfprtalc',\n",
              "  'medcrgvc',\n",
              "  'rghmgprc',\n",
              "  'votedirc',\n",
              "  'cttresac',\n",
              "  'gptpelcc',\n",
              "  'gvctzpvc',\n",
              "  'grdfincc',\n",
              "  'viepolc',\n",
              "  'wpestopc',\n",
              "  'keydecc',\n",
              "  'chpldmi',\n",
              "  'chpldmc',\n",
              "  'stpldmi',\n",
              "  'stpldmc',\n",
              "  'accalaw']}"
            ]
          },
          "metadata": {},
          "execution_count": 27
        }
      ]
    },
    {
      "cell_type": "code",
      "source": [
        "1+1"
      ],
      "metadata": {
        "colab": {
          "base_uri": "https://localhost:8080/"
        },
        "id": "4LzlhQdiM5ON",
        "outputId": "e39229e0-1fcb-47fe-f0b8-091b8e746a0e"
      },
      "execution_count": null,
      "outputs": [
        {
          "output_type": "execute_result",
          "data": {
            "text/plain": [
              "2"
            ]
          },
          "metadata": {},
          "execution_count": 30
        }
      ]
    }
  ]
}